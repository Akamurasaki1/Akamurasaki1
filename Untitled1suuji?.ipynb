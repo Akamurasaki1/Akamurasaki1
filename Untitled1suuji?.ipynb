{
  "nbformat": 4,
  "nbformat_minor": 0,
  "metadata": {
    "colab": {
      "provenance": [],
      "authorship_tag": "ABX9TyOYpXAMhbSOxPvjog0JXa0T",
      "include_colab_link": true
    },
    "kernelspec": {
      "name": "python3",
      "display_name": "Python 3"
    },
    "language_info": {
      "name": "python"
    }
  },
  "cells": [
    {
      "cell_type": "markdown",
      "metadata": {
        "id": "view-in-github",
        "colab_type": "text"
      },
      "source": [
        "<a href=\"https://colab.research.google.com/github/Akamurasaki1/Akamurasaki1/blob/main/Untitled1suuji%3F.ipynb\" target=\"_parent\"><img src=\"https://colab.research.google.com/assets/colab-badge.svg\" alt=\"Open In Colab\"/></a>"
      ]
    },
    {
      "cell_type": "code",
      "execution_count": 49,
      "metadata": {
        "colab": {
          "base_uri": "https://localhost:8080/"
        },
        "id": "79ktwSK-iq8u",
        "outputId": "2b7b0386-7f08-49f4-e16b-3fe1a145666b"
      },
      "outputs": [
        {
          "output_type": "stream",
          "name": "stdout",
          "text": [
            "11\n",
            "修正したよ [2, 3, 5, 7, 11, 13, 17, 19, 23, 29]\n",
            "12.9\n",
            "15.5\n",
            "[13, 17]\n",
            "15.0\n",
            "[2, 5, 11, 17, 23]\n",
            "[3, 7, 13, 19, 29]\n",
            "[2, 7, 17, 29]\n",
            "43010\n",
            "150423\n",
            "6902\n",
            "3.4973959544292024\n",
            "0.28592701913936036\n"
          ]
        }
      ],
      "source": [
        "sosuu=[2,3,5,7,11,13,17,19,23,29,31]\n",
        "print(len(sosuu))\n",
        "if len(sosuu)%2==1:\n",
        "  del sosuu[-1]\n",
        "  print(\"修正したよ\",sosuu)\n",
        "else:\n",
        "  print(sosuu)\n",
        "heikinn=sum(sosuu)/len(sosuu)\n",
        "print(heikinn)\n",
        "hajikko=(max(sosuu)+min(sosuu))/2\n",
        "print(hajikko)\n",
        "mannnaka=[sosuu[(len(sosuu)//2)],sosuu[(len(sosuu)//2)+1]]\n",
        "print(mannnaka)\n",
        "tyuuou=(mannnaka[0]+mannnaka[1])/2\n",
        "print(tyuuou)\n",
        "kisuubannme=[]\n",
        "guusuubannme=[]\n",
        "for i in range (0,len(sosuu)):\n",
        "  if i%2==0:\n",
        "    kisuubannme.append(sosuu[i])\n",
        "  else:\n",
        "    guusuubannme.append(sosuu[i])\n",
        "print(kisuubannme)\n",
        "print(guusuubannme)\n",
        "tokusyu1=[]\n",
        "for i in range(0,len(sosuu)):\n",
        "  if i%3==0:\n",
        "    tokusyu1.append(sosuu[i])\n",
        "print(tokusyu1)\n",
        "def kakezan(sosuutati):\n",
        "  seki=1\n",
        "  for suuji in sosuutati:\n",
        "    seki=seki*suuji\n",
        "    continue\n",
        "  return seki\n",
        "print(kakezan(kisuubannme))\n",
        "print(kakezan(guusuubannme))\n",
        "print(kakezan(tokusyu1))\n",
        "print(kakezan(guusuubannme)/kakezan(kisuubannme))\n",
        "print(kakezan(kisuubannme)/kakezan(guusuubannme))"
      ]
    }
  ]
}